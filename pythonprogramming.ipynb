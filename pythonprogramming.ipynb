{
 "cells": [
  {
   "cell_type": "code",
   "execution_count": 1,
   "id": "676bd9f4-d5c3-46b6-ac95-f24b033aeb6f",
   "metadata": {},
   "outputs": [
    {
     "name": "stdout",
     "output_type": "stream",
     "text": [
      "5! = 120\n"
     ]
    }
   ],
   "source": [
    "def factorial(n):\n",
    "    if n==0: \n",
    "        return 1\n",
    "    return n*factorial(n-1)\n",
    "print(\"5! =\",factorial(5))"
   ]
  },
  {
   "cell_type": "code",
   "execution_count": 2,
   "id": "571a71c4-c389-4940-b942-b1fa1c5d4128",
   "metadata": {},
   "outputs": [
    {
     "name": "stdout",
     "output_type": "stream",
     "text": [
      "0\n",
      "1\n",
      "3\n"
     ]
    }
   ],
   "source": [
    "for i in range(5):\n",
    "    if i == 2:\n",
    "      continue\n",
    "    if i == 4:\n",
    "     break\n",
    "    print(i)\n",
    "else:\n",
    "   print(\"out of loop\")"
   ]
  },
  {
   "cell_type": "code",
   "execution_count": 5,
   "id": "2ab01709-366d-46a7-8e64-d044470a9d8c",
   "metadata": {},
   "outputs": [
    {
     "name": "stdout",
     "output_type": "stream",
     "text": [
      "<class 'int'>\n"
     ]
    }
   ],
   "source": [
    "  num=int(\"123\")\n",
    "print(type(num))"
   ]
  },
  {
   "cell_type": "code",
   "execution_count": 13,
   "id": "35aab75c-e918-4c08-9ab3-95e6b65ed069",
   "metadata": {},
   "outputs": [
    {
     "name": "stdout",
     "output_type": "stream",
     "text": [
      "enter a number 5\n",
      "enter second number 6\n"
     ]
    },
    {
     "name": "stdout",
     "output_type": "stream",
     "text": [
      "the result of two numbers is: 11\n"
     ]
    }
   ],
   "source": [
    "num=int(input(\"enter a number\"))\n",
    "num2=int(input(\"enter second number\"))      \n",
    "result=num +num2\n",
    "print(\"the result of two numbers is:\",result)"
   ]
  },
  {
   "cell_type": "code",
   "execution_count": 14,
   "id": "21471c5f-ed85-4fde-86af-7885f247791a",
   "metadata": {},
   "outputs": [
    {
     "name": "stdout",
     "output_type": "stream",
     "text": [
      "enter a number 4\n",
      "enter second number 5\n"
     ]
    },
    {
     "name": "stdout",
     "output_type": "stream",
     "text": [
      "the result is: 9\n"
     ]
    }
   ],
   "source": [
    "print(\"the result is:\",int(input(\"enter a number\"))+int(input(\"enter second number\")) )"
   ]
  },
  {
   "cell_type": "code",
   "execution_count": null,
   "id": "bbed0e71-034b-41d1-87bb-b9bfcab25c59",
   "metadata": {},
   "outputs": [],
   "source": [
    "def is_prime(n):\n",
    "    if n<2:\n",
    "        return False\n",
    "    for i in range(2,int(n**0.5)+1):\n",
    "        if n % i==0:\n",
    "            return False\n",
    "        return True\n",
    "    print(is_prime(29))\n",
    "    print(is_prime(39))\n",
    "    print(is_prime(49))\n",
    "    print(is_prime(59))\n",
    "    "
   ]
  }
 ],
 "metadata": {
  "kernelspec": {
   "display_name": "Python 3 (ipykernel)",
   "language": "python",
   "name": "python3"
  },
  "language_info": {
   "codemirror_mode": {
    "name": "ipython",
    "version": 3
   },
   "file_extension": ".py",
   "mimetype": "text/x-python",
   "name": "python",
   "nbconvert_exporter": "python",
   "pygments_lexer": "ipython3",
   "version": "3.13.5"
  }
 },
 "nbformat": 4,
 "nbformat_minor": 5
}
